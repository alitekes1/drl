{
 "cells": [
  {
   "cell_type": "code",
   "execution_count": 1,
   "metadata": {},
   "outputs": [],
   "source": [
    "import torch\n",
    "import torch.nn as nn\n",
    "from torchvision import datasets\n",
    "from torchvision.transforms import ToTensor # genellikle resimlerin daha iyi eğitilmesi için transform işlemlerinin yapılması gerekir\n",
    "# bu modul bunun için kullanılır.\n",
    "import matplotlib.pyplot as plt\n",
    "from torch.utils.data import DataLoader"
   ]
  },
  {
   "cell_type": "code",
   "execution_count": null,
   "metadata": {},
   "outputs": [],
   "source": [
    "# Setup training data\n",
    "train_data = datasets.FashionMNIST(\n",
    "    root=\"data\", # where to download data to?\n",
    "    train=True, # get training data\n",
    "    download=True, # download data if it doesn't exist on disk\n",
    "    transform=ToTensor(), # images come as PIL format, we want to turn into Torch tensors\n",
    "    target_transform=None # you can transform labels as well\n",
    ")\n",
    "\n",
    "# Setup testing data\n",
    "test_data = datasets.FashionMNIST(\n",
    "    root=\"data\",\n",
    "    train=False, # get test data\n",
    "    download=True,\n",
    "    transform=ToTensor()\n",
    ")"
   ]
  },
  {
   "cell_type": "code",
   "execution_count": null,
   "metadata": {},
   "outputs": [],
   "source": [
    "image, label=train_data[0]\n",
    "plt.imshow(image.squeeze())  # cmap ile renk haritasını ayarlayın"
   ]
  },
  {
   "cell_type": "code",
   "execution_count": null,
   "metadata": {},
   "outputs": [],
   "source": [
    "# How many samples are there? \n",
    "len(train_data.data), len(train_data.targets), len(test_data.data), len(test_data.targets)\n",
    "# See classes\n",
    "class_names = train_data.classes\n",
    "class_names"
   ]
  },
  {
   "cell_type": "markdown",
   "metadata": {},
   "source": [
    "train ve test data seti için DataLoader oluşturuyoruz."
   ]
  },
  {
   "cell_type": "code",
   "execution_count": 5,
   "metadata": {},
   "outputs": [],
   "source": [
    "train_data_loader=DataLoader(train_data,batch_size=32,shuffle=True)\n",
    "test_data_loader=DataLoader(test_data,batch_size=32,shuffle=False)\n"
   ]
  },
  {
   "cell_type": "code",
   "execution_count": null,
   "metadata": {},
   "outputs": [],
   "source": [
    "# Check out what's inside the training dataloader\n",
    "train_features_batch, train_labels_batch = next(iter(train_data_loader))\n",
    "train_features_batch.shape, train_labels_batch.shape\n",
    "# size değişkeninin ilk değeri olan batch size tensor shape inde yer alır. "
   ]
  },
  {
   "cell_type": "code",
   "execution_count": null,
   "metadata": {},
   "outputs": [],
   "source": [
    "image_raw,label=train_features_batch[0],train_labels_batch[0]\n",
    "plt.imshow(image_raw.squeeze())\n",
    "print(class_names[label])"
   ]
  },
  {
   "cell_type": "code",
   "execution_count": null,
   "metadata": {},
   "outputs": [],
   "source": [
    "flatten_layer=nn.Flatten()\n",
    "output=flatten_layer(image_raw)\n",
    "output.shape"
   ]
  },
  {
   "cell_type": "code",
   "execution_count": 9,
   "metadata": {},
   "outputs": [],
   "source": [
    "class FashionModel(nn.Module):\n",
    "    def __init__(self):\n",
    "        super(FashionModel,self).__init__()\n",
    "        input_shape=28*28\n",
    "        output_shape=10\n",
    "        hidden_unit=10\n",
    "        self.layers=nn.Sequential(\n",
    "            nn.Flatten(),\n",
    "            nn.Linear(in_features=input_shape,out_features=hidden_unit),\n",
    "            nn.Linear(in_features=hidden_unit,out_features=output_shape)\n",
    "        )\n",
    "    def forward(self,x):\n",
    "        return self.layers(x)"
   ]
  },
  {
   "cell_type": "code",
   "execution_count": null,
   "metadata": {},
   "outputs": [],
   "source": [
    "model_0=FashionModel()\n",
    "model_0.to(\"cuda\")"
   ]
  },
  {
   "cell_type": "markdown",
   "metadata": {},
   "source": [
    "optimizar ve Loss function belirlenmesi"
   ]
  },
  {
   "cell_type": "code",
   "execution_count": 11,
   "metadata": {},
   "outputs": [],
   "source": [
    "optim=torch.optim.Adam(params=model_0.parameters(),lr=0.1)\n",
    "\n",
    "loss_func=torch.nn.CrossEntropyLoss()\n",
    "\n",
    "def accuracy_fn(y_true, y_pred):\n",
    "    correct = torch.eq(y_true, y_pred).sum().item() # torch.eq() calculates where two tensors are equal\n",
    "    acc = (correct / len(y_pred)) * 100 \n",
    "    return acc"
   ]
  },
  {
   "cell_type": "code",
   "execution_count": null,
   "metadata": {},
   "outputs": [],
   "source": [
    "epochs=3\n",
    "\n",
    "for epoch in range(epochs):\n",
    "    print(f\"Epoch: {epoch}\\n-------\")\n",
    "    ### Training\n",
    "    train_loss = 0\n",
    "    for batch,(X,y) in enumerate(train_data_loader):\n",
    "        model_0.train() # modeli train moda aldık\n",
    "\n",
    "        X, y = X.to(\"cuda\"), y.to(\"cuda\")# tüm inputların aynı device üzerinde olması gerekiyor.\n",
    "        \n",
    "\n",
    "        y_pred=model_0(X)# modelin bir tahmin yapmasını istiyoruz.\n",
    "\n",
    "        loss=loss_func(y_pred,y)\n",
    "        train_loss+= loss\n",
    "\n",
    "        optim.zero_grad()# eğitim sürecinde türevlerin birikmesini engeller.\n",
    "        loss.backward()# back propagation yapar.\n",
    "        optim.step()# hesaplanan gradientlerin sonucunda modelim parametrelerini günceller.\n",
    "        \n",
    "        if batch % 400 == 0:\n",
    "            print(f\"Looked at {batch * len(X)}/{len(train_data_loader.dataset)} samples\")\n",
    "        \n",
    "    \n",
    "    model_0.eval()# modeli evaluate durumuna aldık. burada modelin performansını değerlendireceğiz.\n",
    "    \n",
    "    train_loss /= len(train_data_loader)\n",
    "\n",
    "    with torch.inference_mode():# sadece forward propagation yapar. gradiant hesaplanmaz\n",
    "        test_loss,test_accurancy,test_acc=0,0,0\n",
    "        for X,y in test_data_loader:\n",
    "            X, y = X.to(\"cuda\"), y.to(\"cuda\")\n",
    "            test_pred=model_0(X)\n",
    "            test_loss=loss_func(test_pred,y)\n",
    "            test_acc += accuracy_fn(y_true=y, y_pred=test_pred.argmax(dim=1))\n",
    "\n",
    "        test_loss /= len(test_data_loader)\n",
    "        test_acc /= len(test_data_loader)\n",
    "\n",
    "    print(f\"\\nTrain loss: {train_loss:.5f} | Test loss: {test_loss:.5f}, Test acc: {test_acc:.2f}%\\n\")\n"
   ]
  },
  {
   "cell_type": "markdown",
   "metadata": {},
   "source": [
    "#### Train Adımları\n",
    "- ilk önce x ve y değişkenini model ile aynı device a eklememiz gerekiyor.\n",
    "- modelden bir predict yapmasını istiyoruz.\n",
    "- predict ile true değeri loss function a veriyoruz.\n",
    "- optim.zero_grad()\n",
    "- loss.backward() ile back propagation yapıyoruz.\n",
    "- optim.step() ile back propagation sonucu ile weightleri güncelliyoruz.\n"
   ]
  },
  {
   "cell_type": "code",
   "execution_count": 13,
   "metadata": {},
   "outputs": [],
   "source": [
    "def eval_model(model: torch.nn.Module, \n",
    "               data_loader: torch.utils.data.DataLoader, \n",
    "               loss_fn: torch.nn.Module, \n",
    "               accuracy_fn, \n",
    "               device: torch.device = \"cuda\"):\n",
    "    loss, acc = 0, 0\n",
    "    model.eval()\n",
    "    with torch.inference_mode():\n",
    "        for X, y in data_loader:\n",
    "            # Send data to the target device\n",
    "            X, y = X.to(device), y.to(device)\n",
    "            y_pred = model(X)\n",
    "            loss += loss_fn(y_pred, y)\n",
    "            acc += accuracy_fn(y_true=y, y_pred=y_pred.argmax(dim=1))\n",
    "        \n",
    "        # Scale loss and acc\n",
    "        loss /= len(data_loader)\n",
    "        acc /= len(data_loader)\n",
    "    return {\"model_name\": model.__class__.__name__, # only works when model was created with a class\n",
    "            \"model_loss\": loss.item(),\n",
    "            \"model_acc\": acc}"
   ]
  },
  {
   "cell_type": "code",
   "execution_count": null,
   "metadata": {},
   "outputs": [],
   "source": [
    "# Calculate model 1 results with device-agnostic code \n",
    "model_1_results = eval_model(model=model_0, data_loader=test_data_loader,\n",
    "    loss_fn=loss_func, accuracy_fn=accuracy_fn,\n",
    "    device=\"cuda\"\n",
    ")\n",
    "model_1_results"
   ]
  },
  {
   "cell_type": "code",
   "execution_count": null,
   "metadata": {},
   "outputs": [],
   "source": []
  }
 ],
 "metadata": {
  "kernelspec": {
   "display_name": "Python 3",
   "language": "python",
   "name": "python3"
  },
  "language_info": {
   "codemirror_mode": {
    "name": "ipython",
    "version": 3
   },
   "file_extension": ".py",
   "mimetype": "text/x-python",
   "name": "python",
   "nbconvert_exporter": "python",
   "pygments_lexer": "ipython3",
   "version": "3.10.12"
  }
 },
 "nbformat": 4,
 "nbformat_minor": 2
}
